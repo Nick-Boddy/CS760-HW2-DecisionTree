{
 "cells": [
  {
   "cell_type": "markdown",
   "metadata": {},
   "source": [
    "#Decision Tree\n",
    "\n",
    "each item has two continuous features\n",
    "class label is {0, 1}\n",
    "\n"
   ]
  },
  {
   "cell_type": "code",
   "execution_count": 8,
   "metadata": {},
   "outputs": [
    {
     "data": {
      "text/plain": [
       "Index(['x1', 'x2'], dtype='object')"
      ]
     },
     "execution_count": 8,
     "metadata": {},
     "output_type": "execute_result"
    }
   ],
   "source": [
    "import numpy as np\n",
    "import pandas as pd\n",
    "\n",
    "df = pd.read_csv('./data/D1.txt', sep='\\s+', names=['x1', 'x2', 'y'])\n",
    "df.columns[:-1]"
   ]
  },
  {
   "cell_type": "code",
   "execution_count": null,
   "metadata": {},
   "outputs": [],
   "source": [
    "def determine_candidate_numeric_splits(D: pd.DataFrame, X: str):\n",
    "    return\n",
    "\n",
    "def determine_candidate_splits(D: pd.DataFrame):\n",
    "    C = []\n",
    "    for feature in D.columns[:-1]:\n",
    "        C.append(determine_candidate_numeric_splits(D, feature))\n",
    "    return C\n",
    "\n",
    "def make_subtree(D: pd.DataFrame):\n",
    "    candidate_splits = determine_candidate_splits(D)\n",
    "    # if stopping criteria:\n",
    "    #   make a leaf node N\n",
    "    #   determine class label of N\n",
    "    # else:\n",
    "    #   make internal node N\n",
    "    #   S = FindBestSplit(D, candidate_splits)\n",
    "    #   for each group k of S\n",
    "    #       Dk := subset of training data in group k\n",
    "    #       kth child of N := make_subtree(Dk)\n",
    "    # return subtree rooted at N\n",
    "    return\n",
    "\n",
    "dtree = make_subtree(df[:])"
   ]
  }
 ],
 "metadata": {
  "kernelspec": {
   "display_name": "Python 3",
   "language": "python",
   "name": "python3"
  },
  "language_info": {
   "codemirror_mode": {
    "name": "ipython",
    "version": 3
   },
   "file_extension": ".py",
   "mimetype": "text/x-python",
   "name": "python",
   "nbconvert_exporter": "python",
   "pygments_lexer": "ipython3",
   "version": "3.8.8"
  },
  "orig_nbformat": 4
 },
 "nbformat": 4,
 "nbformat_minor": 2
}
